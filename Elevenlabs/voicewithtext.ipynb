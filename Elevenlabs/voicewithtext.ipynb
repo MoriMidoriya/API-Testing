{
 "cells": [
  {
   "cell_type": "code",
   "execution_count": 1,
   "metadata": {},
   "outputs": [
    {
     "name": "stderr",
     "output_type": "stream",
     "text": [
      "INFO:root:ElevenLabs client initialized successfully.\n",
      "INFO:root:Attempting to generate audio...\n",
      "INFO:httpx:HTTP Request: GET https://api.elevenlabs.io/v1/voices \"HTTP/1.1 200 OK\"\n",
      "INFO:root:Audio generation request sent successfully.\n",
      "INFO:httpx:HTTP Request: POST https://api.elevenlabs.io/v1/text-to-speech/21m00Tcm4TlvDq8ikWAM?optimize_streaming_latency=0&output_format=mp3_44100_128 \"HTTP/1.1 200 OK\"\n",
      "INFO:root:Audio generator successfully converted to bytes.\n",
      "INFO:root:Audio successfully saved to output_audio.wav\n"
     ]
    }
   ],
   "source": [
    "import logging\n",
    "from elevenlabs.client import ElevenLabs\n",
    "\n",
    "# Setup logging\n",
    "logging.basicConfig(level=logging.INFO)\n",
    "\n",
    "# Retrieve the API key (normally you would get this from an environment variable for security)\n",
    "api_key = \"\"\n",
    "\n",
    "if not api_key:\n",
    "    raise ValueError(\"API key not found. Please set the ELEVEN_API_KEY environment variable.\")\n",
    "\n",
    "# Initialize the ElevenLabs client\n",
    "try:\n",
    "    client = ElevenLabs(api_key=api_key)\n",
    "    logging.info(\"ElevenLabs client initialized successfully.\")\n",
    "except Exception as e:\n",
    "    raise Exception(f\"Failed to initialize ElevenLabs client: {e}\")\n",
    "\n",
    "# Define the text and voice options\n",
    "text = \"you are the best person in the world. I love you so much.This is a test message. Let's see how it sounds. pleaseeee work\"\n",
    "voice = \"Rachel\"\n",
    "model = \"eleven_multilingual_v2\"\n",
    "\n",
    "# Generate the audio data\n",
    "try:\n",
    "    logging.info(\"Attempting to generate audio...\")\n",
    "    audio_generator = client.generate(\n",
    "        text=text,\n",
    "        voice=voice,\n",
    "        model=model\n",
    "    )\n",
    "    logging.info(\"Audio generation request sent successfully.\")\n",
    "except Exception as e:\n",
    "    logging.error(f\"Failed to generate audio: {e}\")\n",
    "    raise\n",
    "\n",
    "# Convert the generator to bytes\n",
    "try:\n",
    "    audio_bytes = b''.join(audio_generator)\n",
    "    logging.info(\"Audio generator successfully converted to bytes.\")\n",
    "except Exception as e:\n",
    "    logging.error(f\"Failed to convert audio generator to bytes: {e}\")\n",
    "    raise\n",
    "\n",
    "# Save the generated audio to a file\n",
    "audio_file_path = \"output_audio.wav\"\n",
    "try:\n",
    "    with open(audio_file_path, \"wb\") as audio_file:\n",
    "        audio_file.write(audio_bytes)\n",
    "    logging.info(f\"Audio successfully saved to {audio_file_path}\")\n",
    "except Exception as e:\n",
    "    logging.error(f\"Failed to save audio to file: {e}\")\n",
    "    raise\n"
   ]
  }
 ],
 "metadata": {
  "kernelspec": {
   "display_name": "Python 3",
   "language": "python",
   "name": "python3"
  },
  "language_info": {
   "codemirror_mode": {
    "name": "ipython",
    "version": 3
   },
   "file_extension": ".py",
   "mimetype": "text/x-python",
   "name": "python",
   "nbconvert_exporter": "python",
   "pygments_lexer": "ipython3",
   "version": "3.10.11"
  }
 },
 "nbformat": 4,
 "nbformat_minor": 2
}
